{
  "nbformat": 4,
  "nbformat_minor": 0,
  "metadata": {
    "colab": {
      "provenance": []
    },
    "kernelspec": {
      "name": "python3",
      "display_name": "Python 3"
    },
    "language_info": {
      "name": "python"
    }
  },
  "cells": [
    {
      "cell_type": "code",
      "execution_count": 40,
      "metadata": {
        "colab": {
          "base_uri": "https://localhost:8080/"
        },
        "id": "aUIgblL2Ea7e",
        "outputId": "7b2cf67d-a758-4939-a759-933320cbe6a0"
      },
      "outputs": [
        {
          "output_type": "stream",
          "name": "stdout",
          "text": [
            "Python 3.10.12\n"
          ]
        }
      ],
      "source": [
        "!python -V"
      ]
    },
    {
      "cell_type": "code",
      "source": [
        "import pandas as pd\n",
        "import numpy as np\n",
        "from sklearn.feature_extraction import DictVectorizer as dv\n",
        "from sklearn.linear_model import LinearRegression as lr\n",
        "from sklearn.metrics import mean_squared_error"
      ],
      "metadata": {
        "id": "DurSuOS8F0uj"
      },
      "execution_count": 41,
      "outputs": []
    },
    {
      "cell_type": "code",
      "source": [
        "ny_jan_df = pd.read_parquet(\"./yellow_tripdata_2023-01.parquet\")\n",
        "ny_feb_df = pd.read_parquet(\"./yellow_tripdata_2023-02.parquet\")\n"
      ],
      "metadata": {
        "id": "jkA4IzufF6rg"
      },
      "execution_count": 42,
      "outputs": []
    },
    {
      "cell_type": "markdown",
      "source": [
        "# **Q1. Downloading the data**\n",
        "\n",
        "We'll use the same NYC taxi dataset, but instead of \"Green Taxi Trip Records\", we'll use \"Yellow Taxi Trip Records\".\n",
        "\n",
        "Download the data for January and February 2023.\n",
        "\n",
        "Read the data for January. How many columns are there?"
      ],
      "metadata": {
        "id": "3ApTWIE0JFUE"
      }
    },
    {
      "cell_type": "code",
      "source": [
        "len(ny_jan_df.columns)"
      ],
      "metadata": {
        "id": "1_9h0pNsGb9e",
        "colab": {
          "base_uri": "https://localhost:8080/"
        },
        "outputId": "9805f408-2901-4ae1-faff-85f40face370"
      },
      "execution_count": 43,
      "outputs": [
        {
          "output_type": "execute_result",
          "data": {
            "text/plain": [
              "19"
            ]
          },
          "metadata": {},
          "execution_count": 43
        }
      ]
    },
    {
      "cell_type": "markdown",
      "source": [
        "\n",
        "# **Q2. Computing duration**\n",
        "\n",
        "Now let's compute the duration variable. It should contain the duration of a ride in minutes.\n",
        "What's the standard deviation of the trips duration in January?\n"
      ],
      "metadata": {
        "id": "ImEV3UZIJEZU"
      }
    },
    {
      "cell_type": "code",
      "source": [
        "ny_jan_df[\"duration\"] = ny_jan_df.tpep_dropoff_datetime - ny_jan_df.tpep_pickup_datetime\n",
        "\n",
        "ny_jan_df.duration = ny_jan_df.duration.apply(lambda x:x.total_seconds()/60)\n",
        "\n",
        "ny_jan_df.duration.std(skipna=True)"
      ],
      "metadata": {
        "id": "hsPg2wtcRBwt",
        "colab": {
          "base_uri": "https://localhost:8080/"
        },
        "outputId": "a6df05a0-7993-41fb-8ec8-829474811910"
      },
      "execution_count": 44,
      "outputs": [
        {
          "output_type": "execute_result",
          "data": {
            "text/plain": [
              "42.59435124195458"
            ]
          },
          "metadata": {},
          "execution_count": 44
        }
      ]
    },
    {
      "cell_type": "markdown",
      "source": [
        "# **Q3. Dropping outliers**\n",
        "\n",
        "Next, we need to check the distribution of the duration variable. There are some outliers. Let's remove them and keep only the records where the duration was between 1 and 60 minutes (inclusive).\n",
        "\n",
        "What fraction of the records left after you dropped the outliers?"
      ],
      "metadata": {
        "id": "AqPobfpXV2fg"
      }
    },
    {
      "cell_type": "markdown",
      "source": [],
      "metadata": {
        "id": "-2V_Ek_LXL-d"
      }
    },
    {
      "cell_type": "code",
      "source": [
        "rec_count_before = len(ny_jan_df)\n",
        "ny_jan_df = ny_jan_df[(ny_jan_df.duration >= 1) & (ny_jan_df.duration <= 60)]\n",
        "rec_count_after = len(ny_jan_df)\n",
        "print(\"Fraction of record count left after dropping outlier: %0.2f\" % (rec_count_after/rec_count_before))"
      ],
      "metadata": {
        "id": "Lq6dy83MRQAl",
        "colab": {
          "base_uri": "https://localhost:8080/"
        },
        "outputId": "952d586d-57c0-450b-8da1-c7ad7191afef"
      },
      "execution_count": 45,
      "outputs": [
        {
          "output_type": "stream",
          "name": "stdout",
          "text": [
            "Fraction of record count left after dropping outlier: 0.98\n"
          ]
        }
      ]
    },
    {
      "cell_type": "markdown",
      "source": [
        "# **Q4. One-hot encoding**\n",
        "\n",
        "Let's apply one-hot encoding to the pickup and dropoff location IDs. We'll use only these two features for our model.\n",
        "\n",
        "Turn the dataframe into a list of dictionaries (remember to re-cast the ids to strings - otherwise it will label encode them)\n",
        "Fit a dictionary vectorizer\n",
        "Get a feature matrix from it\n",
        "What's the dimensionality of this matrix (number of columns)?"
      ],
      "metadata": {
        "id": "grh8tyYniQeZ"
      }
    },
    {
      "cell_type": "code",
      "source": [
        "categorical = ['PULocationID','DOLocationID']\n",
        "ny_jan_df[categorical] = ny_jan_df[categorical].astype(str)\n",
        "\n",
        "dict_train = ny_jan_df[['PULocationID','DOLocationID', 'trip_distance']].to_dict(orient='records')\n",
        "\n",
        "dv1 = dv()  #create an instance of DictVectorizer()\n",
        "xtrain = dv1.fit_transform(dict_train)\n",
        "\n"
      ],
      "metadata": {
        "id": "nl8FmorhkYNE"
      },
      "execution_count": 46,
      "outputs": []
    },
    {
      "cell_type": "code",
      "source": [
        "len(dv1.feature_names_)"
      ],
      "metadata": {
        "id": "5KMqLM7h3sKF",
        "colab": {
          "base_uri": "https://localhost:8080/"
        },
        "outputId": "05531f0c-f25a-4c74-af2a-911a29686981"
      },
      "execution_count": 47,
      "outputs": [
        {
          "output_type": "execute_result",
          "data": {
            "text/plain": [
              "516"
            ]
          },
          "metadata": {},
          "execution_count": 47
        }
      ]
    },
    {
      "cell_type": "markdown",
      "source": [
        "# **Q5. Training a model**\n",
        "\n",
        "Now let's use the feature matrix from the previous step to train a model.\n",
        "\n",
        "Train a plain linear regression model with default parameters\n",
        "Calculate the RMSE of the model on the training data\n",
        "What's the RMSE on train?"
      ],
      "metadata": {
        "id": "PXsTgfJE4Y0W"
      }
    },
    {
      "cell_type": "code",
      "source": [
        "ytrain = ny_jan_df['duration'].values\n",
        "ytrain"
      ],
      "metadata": {
        "id": "kmGiWHWh4lFI",
        "colab": {
          "base_uri": "https://localhost:8080/"
        },
        "outputId": "bed9f265-8b5f-4a38-b199-e3e7a6aeece2"
      },
      "execution_count": 48,
      "outputs": [
        {
          "output_type": "execute_result",
          "data": {
            "text/plain": [
              "array([ 8.43333333,  6.31666667, 12.75      , ..., 24.51666667,\n",
              "       13.        , 14.4       ])"
            ]
          },
          "metadata": {},
          "execution_count": 48
        }
      ]
    },
    {
      "cell_type": "code",
      "source": [
        "lr1 = lr()\n",
        "lr1.fit(xtrain, ytrain)\n"
      ],
      "metadata": {
        "id": "6_6utrUc6J-W",
        "colab": {
          "base_uri": "https://localhost:8080/",
          "height": 74
        },
        "outputId": "a341ceb9-b762-45ba-86b6-5f8ce0b63cf6"
      },
      "execution_count": 49,
      "outputs": [
        {
          "output_type": "execute_result",
          "data": {
            "text/plain": [
              "LinearRegression()"
            ],
            "text/html": [
              "<style>#sk-container-id-3 {color: black;background-color: white;}#sk-container-id-3 pre{padding: 0;}#sk-container-id-3 div.sk-toggleable {background-color: white;}#sk-container-id-3 label.sk-toggleable__label {cursor: pointer;display: block;width: 100%;margin-bottom: 0;padding: 0.3em;box-sizing: border-box;text-align: center;}#sk-container-id-3 label.sk-toggleable__label-arrow:before {content: \"▸\";float: left;margin-right: 0.25em;color: #696969;}#sk-container-id-3 label.sk-toggleable__label-arrow:hover:before {color: black;}#sk-container-id-3 div.sk-estimator:hover label.sk-toggleable__label-arrow:before {color: black;}#sk-container-id-3 div.sk-toggleable__content {max-height: 0;max-width: 0;overflow: hidden;text-align: left;background-color: #f0f8ff;}#sk-container-id-3 div.sk-toggleable__content pre {margin: 0.2em;color: black;border-radius: 0.25em;background-color: #f0f8ff;}#sk-container-id-3 input.sk-toggleable__control:checked~div.sk-toggleable__content {max-height: 200px;max-width: 100%;overflow: auto;}#sk-container-id-3 input.sk-toggleable__control:checked~label.sk-toggleable__label-arrow:before {content: \"▾\";}#sk-container-id-3 div.sk-estimator input.sk-toggleable__control:checked~label.sk-toggleable__label {background-color: #d4ebff;}#sk-container-id-3 div.sk-label input.sk-toggleable__control:checked~label.sk-toggleable__label {background-color: #d4ebff;}#sk-container-id-3 input.sk-hidden--visually {border: 0;clip: rect(1px 1px 1px 1px);clip: rect(1px, 1px, 1px, 1px);height: 1px;margin: -1px;overflow: hidden;padding: 0;position: absolute;width: 1px;}#sk-container-id-3 div.sk-estimator {font-family: monospace;background-color: #f0f8ff;border: 1px dotted black;border-radius: 0.25em;box-sizing: border-box;margin-bottom: 0.5em;}#sk-container-id-3 div.sk-estimator:hover {background-color: #d4ebff;}#sk-container-id-3 div.sk-parallel-item::after {content: \"\";width: 100%;border-bottom: 1px solid gray;flex-grow: 1;}#sk-container-id-3 div.sk-label:hover label.sk-toggleable__label {background-color: #d4ebff;}#sk-container-id-3 div.sk-serial::before {content: \"\";position: absolute;border-left: 1px solid gray;box-sizing: border-box;top: 0;bottom: 0;left: 50%;z-index: 0;}#sk-container-id-3 div.sk-serial {display: flex;flex-direction: column;align-items: center;background-color: white;padding-right: 0.2em;padding-left: 0.2em;position: relative;}#sk-container-id-3 div.sk-item {position: relative;z-index: 1;}#sk-container-id-3 div.sk-parallel {display: flex;align-items: stretch;justify-content: center;background-color: white;position: relative;}#sk-container-id-3 div.sk-item::before, #sk-container-id-3 div.sk-parallel-item::before {content: \"\";position: absolute;border-left: 1px solid gray;box-sizing: border-box;top: 0;bottom: 0;left: 50%;z-index: -1;}#sk-container-id-3 div.sk-parallel-item {display: flex;flex-direction: column;z-index: 1;position: relative;background-color: white;}#sk-container-id-3 div.sk-parallel-item:first-child::after {align-self: flex-end;width: 50%;}#sk-container-id-3 div.sk-parallel-item:last-child::after {align-self: flex-start;width: 50%;}#sk-container-id-3 div.sk-parallel-item:only-child::after {width: 0;}#sk-container-id-3 div.sk-dashed-wrapped {border: 1px dashed gray;margin: 0 0.4em 0.5em 0.4em;box-sizing: border-box;padding-bottom: 0.4em;background-color: white;}#sk-container-id-3 div.sk-label label {font-family: monospace;font-weight: bold;display: inline-block;line-height: 1.2em;}#sk-container-id-3 div.sk-label-container {text-align: center;}#sk-container-id-3 div.sk-container {/* jupyter's `normalize.less` sets `[hidden] { display: none; }` but bootstrap.min.css set `[hidden] { display: none !important; }` so we also need the `!important` here to be able to override the default hidden behavior on the sphinx rendered scikit-learn.org. See: https://github.com/scikit-learn/scikit-learn/issues/21755 */display: inline-block !important;position: relative;}#sk-container-id-3 div.sk-text-repr-fallback {display: none;}</style><div id=\"sk-container-id-3\" class=\"sk-top-container\"><div class=\"sk-text-repr-fallback\"><pre>LinearRegression()</pre><b>In a Jupyter environment, please rerun this cell to show the HTML representation or trust the notebook. <br />On GitHub, the HTML representation is unable to render, please try loading this page with nbviewer.org.</b></div><div class=\"sk-container\" hidden><div class=\"sk-item\"><div class=\"sk-estimator sk-toggleable\"><input class=\"sk-toggleable__control sk-hidden--visually\" id=\"sk-estimator-id-3\" type=\"checkbox\" checked><label for=\"sk-estimator-id-3\" class=\"sk-toggleable__label sk-toggleable__label-arrow\">LinearRegression</label><div class=\"sk-toggleable__content\"><pre>LinearRegression()</pre></div></div></div></div></div>"
            ]
          },
          "metadata": {},
          "execution_count": 49
        }
      ]
    },
    {
      "cell_type": "code",
      "source": [
        "ypredict = lr1.predict(xtrain)"
      ],
      "metadata": {
        "id": "p1VwOCgE7lYK"
      },
      "execution_count": 50,
      "outputs": []
    },
    {
      "cell_type": "code",
      "source": [
        "rmse_train = np.sqrt(mean_squared_error(ytrain, ypredict))\n",
        "print(\"RMSE on train: \", rmse_train)"
      ],
      "metadata": {
        "id": "ORQIc91w9ONB",
        "colab": {
          "base_uri": "https://localhost:8080/"
        },
        "outputId": "9a422046-4a4d-45c9-bb93-d889797d533f"
      },
      "execution_count": 51,
      "outputs": [
        {
          "output_type": "stream",
          "name": "stdout",
          "text": [
            "RMSE on train:  7.656752063242953\n"
          ]
        }
      ]
    },
    {
      "cell_type": "markdown",
      "source": [
        "# **Q6. Evaluating the model**\n",
        "\n",
        "Now let's apply this model to the validation dataset (February 2023).\n",
        "\n",
        "What's the RMSE on validation?"
      ],
      "metadata": {
        "id": "t5ZwYsmHGyzp"
      }
    },
    {
      "cell_type": "code",
      "source": [
        "ny_feb_df[\"duration\"] = ny_feb_df.tpep_dropoff_datetime - ny_feb_df.tpep_pickup_datetime\n",
        "\n",
        "ny_feb_df.duration = ny_feb_df.duration.apply(lambda x:x.total_seconds()/60)\n",
        "ny_feb_df = ny_feb_df[(ny_feb_df.duration >= 1) & (ny_feb_df.duration <= 60)]\n",
        "\n",
        "yval = ny_feb_df['duration'].values\n",
        "\n",
        "ny_feb_df[categorical] = ny_feb_df[categorical].astype(str)\n",
        "\n",
        "dict_val = ny_feb_df[['PULocationID','DOLocationID', 'trip_distance']].to_dict(orient='records')\n",
        "#dv2 = dv()  #create an instance of DictVectorizer()\n",
        "xval = dv1.transform(dict_val)\n",
        "\n",
        "ypredict = lr1.predict(xval)\n",
        "\n",
        "rmse_val = np.sqrt(mean_squared_error(yval, ypredict))\n",
        "print(\"RMSE on validation data: \", rmse_val)\n"
      ],
      "metadata": {
        "id": "wKVtgvBNG9Lk",
        "colab": {
          "base_uri": "https://localhost:8080/"
        },
        "outputId": "56da5d33-dd15-4fe2-fc04-41aec63ad987"
      },
      "execution_count": 52,
      "outputs": [
        {
          "output_type": "stream",
          "name": "stdout",
          "text": [
            "RMSE on validation data:  7.818628965425388\n"
          ]
        }
      ]
    },
    {
      "cell_type": "markdown",
      "source": [],
      "metadata": {
        "id": "7URFwvc7Y-1d"
      }
    },
    {
      "cell_type": "code",
      "source": [
        "ny_jan_df.dtypes"
      ],
      "metadata": {
        "id": "h8ukXB9IJz2H",
        "colab": {
          "base_uri": "https://localhost:8080/"
        },
        "outputId": "f62ee99b-2055-41c9-d889-d8ed88ec09eb"
      },
      "execution_count": 53,
      "outputs": [
        {
          "output_type": "execute_result",
          "data": {
            "text/plain": [
              "VendorID                          int64\n",
              "tpep_pickup_datetime     datetime64[us]\n",
              "tpep_dropoff_datetime    datetime64[us]\n",
              "passenger_count                 float64\n",
              "trip_distance                   float64\n",
              "RatecodeID                      float64\n",
              "store_and_fwd_flag               object\n",
              "PULocationID                     object\n",
              "DOLocationID                     object\n",
              "payment_type                      int64\n",
              "fare_amount                     float64\n",
              "extra                           float64\n",
              "mta_tax                         float64\n",
              "tip_amount                      float64\n",
              "tolls_amount                    float64\n",
              "improvement_surcharge           float64\n",
              "total_amount                    float64\n",
              "congestion_surcharge            float64\n",
              "airport_fee                     float64\n",
              "duration                        float64\n",
              "dtype: object"
            ]
          },
          "metadata": {},
          "execution_count": 53
        }
      ]
    }
  ]
}